{
 "cells": [
  {
   "cell_type": "markdown",
   "id": "b6c55a1c",
   "metadata": {},
   "source": [
    "# Numpy\n",
    "\n",
    "- NumPy is a general-purpose array-processing package.\n",
    "- Numpy was created to work with multidmensional arrays.\n",
    "- It is the fundamental package for scientific computing with Python.\n",
    "- It is open-source library."
   ]
  },
  {
   "cell_type": "markdown",
   "id": "aa77efd3",
   "metadata": {},
   "source": [
    "# Why Use NumPy?\n",
    "- In Python we have lists that serve the purpose of arrays, but they are slow to process.\n",
    "\n",
    "- NumPy aims to provide an array object that is up to 50x faster than traditional Python lists.\n",
    "\n",
    "- The array object in NumPy is called ndarray, it provides a lot of supporting functions that make working with ndarray very easy.\n",
    "\n",
    "- Arrays are very frequently used in data science, where speed and resources are very important."
   ]
  },
  {
   "cell_type": "code",
   "execution_count": 2,
   "id": "d1adccfe",
   "metadata": {
    "ExecuteTime": {
     "end_time": "2023-02-02T10:38:16.783062Z",
     "start_time": "2023-02-02T10:38:16.380145Z"
    }
   },
   "outputs": [],
   "source": [
    "#Importing necessary library\n",
    "import numpy as np"
   ]
  },
  {
   "cell_type": "code",
   "execution_count": 3,
   "id": "171b2621",
   "metadata": {
    "ExecuteTime": {
     "end_time": "2023-02-02T10:38:17.729248Z",
     "start_time": "2023-02-02T10:38:17.711476Z"
    }
   },
   "outputs": [
    {
     "data": {
      "text/plain": [
       "numpy.ndarray"
      ]
     },
     "execution_count": 3,
     "metadata": {},
     "output_type": "execute_result"
    }
   ],
   "source": [
    "#Array Creation\n",
    "\n",
    "x = np.array(10)\n",
    "type(x)"
   ]
  },
  {
   "cell_type": "code",
   "execution_count": null,
   "id": "b659a4a7",
   "metadata": {
    "ExecuteTime": {
     "start_time": "2023-02-02T10:35:20.892Z"
    }
   },
   "outputs": [],
   "source": [
    "x = np.array([10,12,16,18])"
   ]
  },
  {
   "cell_type": "code",
   "execution_count": null,
   "id": "efe92afd",
   "metadata": {
    "ExecuteTime": {
     "start_time": "2023-02-02T10:35:20.894Z"
    }
   },
   "outputs": [],
   "source": [
    "x"
   ]
  },
  {
   "cell_type": "code",
   "execution_count": null,
   "id": "64b9d62f",
   "metadata": {
    "ExecuteTime": {
     "start_time": "2023-02-02T10:35:20.896Z"
    }
   },
   "outputs": [],
   "source": [
    "x.ndim"
   ]
  },
  {
   "cell_type": "code",
   "execution_count": null,
   "id": "ed58490f",
   "metadata": {
    "ExecuteTime": {
     "start_time": "2023-02-02T10:35:20.897Z"
    }
   },
   "outputs": [],
   "source": [
    "#Zero dimensional array"
   ]
  },
  {
   "cell_type": "code",
   "execution_count": null,
   "id": "f6b5d851",
   "metadata": {
    "ExecuteTime": {
     "start_time": "2023-02-02T10:35:20.899Z"
    }
   },
   "outputs": [],
   "source": [
    "z = np.array(10)\n",
    "z.ndim"
   ]
  },
  {
   "cell_type": "code",
   "execution_count": null,
   "id": "33d89455",
   "metadata": {
    "ExecuteTime": {
     "start_time": "2023-02-02T10:35:20.901Z"
    }
   },
   "outputs": [],
   "source": [
    "#One dimensional array"
   ]
  },
  {
   "cell_type": "code",
   "execution_count": null,
   "id": "cd6a7ec5",
   "metadata": {
    "ExecuteTime": {
     "start_time": "2023-02-02T10:35:20.904Z"
    }
   },
   "outputs": [],
   "source": [
    "o = np.array([10])\n",
    "o.ndim"
   ]
  },
  {
   "cell_type": "code",
   "execution_count": null,
   "id": "63162fb5",
   "metadata": {
    "ExecuteTime": {
     "start_time": "2023-02-02T10:35:20.907Z"
    }
   },
   "outputs": [],
   "source": [
    "#Two dimensional array"
   ]
  },
  {
   "cell_type": "code",
   "execution_count": null,
   "id": "f3bf75e0",
   "metadata": {
    "ExecuteTime": {
     "start_time": "2023-02-02T10:35:20.908Z"
    }
   },
   "outputs": [],
   "source": [
    "t = np.array([[1,2,3],[4,5,6]])\n",
    "t.ndim"
   ]
  },
  {
   "cell_type": "code",
   "execution_count": null,
   "id": "0905f753",
   "metadata": {
    "ExecuteTime": {
     "start_time": "2023-02-02T10:35:20.910Z"
    }
   },
   "outputs": [],
   "source": [
    "#Three dimensional array"
   ]
  },
  {
   "cell_type": "code",
   "execution_count": null,
   "id": "8fc45c90",
   "metadata": {
    "ExecuteTime": {
     "start_time": "2023-02-02T10:35:20.912Z"
    }
   },
   "outputs": [],
   "source": [
    "a = np.array([[[1,2,3,4,5]]])\n",
    "a.ndim"
   ]
  },
  {
   "cell_type": "code",
   "execution_count": null,
   "id": "b14366dc",
   "metadata": {
    "ExecuteTime": {
     "start_time": "2023-02-02T10:35:20.913Z"
    }
   },
   "outputs": [],
   "source": [
    "#Change the data type of the array elements."
   ]
  },
  {
   "cell_type": "code",
   "execution_count": null,
   "id": "6e4454f3",
   "metadata": {
    "ExecuteTime": {
     "start_time": "2023-02-02T10:35:20.914Z"
    }
   },
   "outputs": [],
   "source": [
    "a = np.array([10,20,30,40,50], dtype = float)\n",
    "a"
   ]
  },
  {
   "cell_type": "code",
   "execution_count": null,
   "id": "6ae204ae",
   "metadata": {
    "ExecuteTime": {
     "start_time": "2023-02-02T10:35:20.915Z"
    }
   },
   "outputs": [],
   "source": [
    "a = np.array(['10','20','30'])\n",
    "a"
   ]
  },
  {
   "cell_type": "markdown",
   "id": "2ff2c8a5",
   "metadata": {},
   "source": [
    "# Other ways of creating an array\n",
    "1. arange\n",
    "2. linspace\n",
    "3. zeros\n",
    "4. ones\n",
    "5. random"
   ]
  },
  {
   "cell_type": "code",
   "execution_count": 5,
   "id": "5e2d8474",
   "metadata": {
    "ExecuteTime": {
     "end_time": "2023-02-02T10:39:03.711305Z",
     "start_time": "2023-02-02T10:39:03.691767Z"
    }
   },
   "outputs": [
    {
     "data": {
      "text/plain": [
       "array([ 1,  2,  3,  4,  5,  6,  7,  8,  9, 10])"
      ]
     },
     "execution_count": 5,
     "metadata": {},
     "output_type": "execute_result"
    }
   ],
   "source": [
    "a = np.arange(1,11)\n",
    "a"
   ]
  },
  {
   "cell_type": "code",
   "execution_count": 9,
   "id": "317919f9",
   "metadata": {
    "ExecuteTime": {
     "end_time": "2023-02-02T10:41:58.047546Z",
     "start_time": "2023-02-02T10:41:58.034744Z"
    },
    "scrolled": true
   },
   "outputs": [
    {
     "data": {
      "text/plain": [
       "(array([ 1.        ,  1.47368421,  1.94736842,  2.42105263,  2.89473684,\n",
       "         3.36842105,  3.84210526,  4.31578947,  4.78947368,  5.26315789,\n",
       "         5.73684211,  6.21052632,  6.68421053,  7.15789474,  7.63157895,\n",
       "         8.10526316,  8.57894737,  9.05263158,  9.52631579, 10.        ]),\n",
       " 0.47368421052631576)"
      ]
     },
     "execution_count": 9,
     "metadata": {},
     "output_type": "execute_result"
    }
   ],
   "source": [
    "a = np.linspace(1,10,20,retstep=True)\n",
    "a\n"
   ]
  },
  {
   "cell_type": "code",
   "execution_count": 11,
   "id": "12271dea",
   "metadata": {
    "ExecuteTime": {
     "end_time": "2023-02-02T10:44:31.832001Z",
     "start_time": "2023-02-02T10:44:31.820899Z"
    }
   },
   "outputs": [
    {
     "data": {
      "text/plain": [
       "array([[0., 0., 0.],\n",
       "       [0., 0., 0.]])"
      ]
     },
     "execution_count": 11,
     "metadata": {},
     "output_type": "execute_result"
    }
   ],
   "source": [
    "z = np.zeros([2,3])\n",
    "z"
   ]
  },
  {
   "cell_type": "code",
   "execution_count": 12,
   "id": "a805f60a",
   "metadata": {
    "ExecuteTime": {
     "end_time": "2023-02-02T10:45:27.075468Z",
     "start_time": "2023-02-02T10:45:27.063836Z"
    }
   },
   "outputs": [
    {
     "data": {
      "text/plain": [
       "array([[1., 1., 1., 1., 1.],\n",
       "       [1., 1., 1., 1., 1.],\n",
       "       [1., 1., 1., 1., 1.],\n",
       "       [1., 1., 1., 1., 1.],\n",
       "       [1., 1., 1., 1., 1.]])"
      ]
     },
     "execution_count": 12,
     "metadata": {},
     "output_type": "execute_result"
    }
   ],
   "source": [
    "o = np.ones([5,5])\n",
    "o"
   ]
  },
  {
   "cell_type": "code",
   "execution_count": 15,
   "id": "f2879158",
   "metadata": {
    "ExecuteTime": {
     "end_time": "2023-02-02T10:46:19.669109Z",
     "start_time": "2023-02-02T10:46:19.647266Z"
    }
   },
   "outputs": [
    {
     "data": {
      "text/plain": [
       "array([[0.03106292, 0.99762969, 0.37794423, 0.43750576, 0.68569168],\n",
       "       [0.7798882 , 0.27691269, 0.18762275, 0.21876483, 0.61319989],\n",
       "       [0.14418044, 0.55336962, 0.1419727 , 0.08027219, 0.35816165],\n",
       "       [0.73915847, 0.43601058, 0.82519359, 0.57086301, 0.68479251],\n",
       "       [0.69241191, 0.98021212, 0.0610995 , 0.90082403, 0.2314189 ],\n",
       "       [0.46176159, 0.66717398, 0.29368878, 0.99396422, 0.08263853],\n",
       "       [0.18109792, 0.24089625, 0.62731664, 0.9839956 , 0.86873401],\n",
       "       [0.43354619, 0.40635333, 0.42017061, 0.08389833, 0.85531764],\n",
       "       [0.79812789, 0.56494188, 0.64349643, 0.10538615, 0.88084852],\n",
       "       [0.84406497, 0.73688528, 0.75080103, 0.32861422, 0.77392515]])"
      ]
     },
     "execution_count": 15,
     "metadata": {},
     "output_type": "execute_result"
    }
   ],
   "source": [
    "x = np.random.rand(10,5)\n",
    "x"
   ]
  },
  {
   "cell_type": "code",
   "execution_count": 16,
   "id": "ccff7595",
   "metadata": {
    "ExecuteTime": {
     "end_time": "2023-02-02T10:47:15.591338Z",
     "start_time": "2023-02-02T10:47:15.567921Z"
    }
   },
   "outputs": [
    {
     "data": {
      "text/plain": [
       "array([[-0.84065315, -1.36127254],\n",
       "       [-0.19180758,  0.67050047],\n",
       "       [ 0.39386664, -2.02319091],\n",
       "       [ 2.86310557,  2.09028193],\n",
       "       [-0.19586507, -0.89220153],\n",
       "       [ 0.29874826, -1.02044807],\n",
       "       [ 2.39855436, -1.86520596],\n",
       "       [-0.75832098, -0.22323198],\n",
       "       [ 0.06484539, -0.25502275],\n",
       "       [-0.2597636 ,  0.05796659]])"
      ]
     },
     "execution_count": 16,
     "metadata": {},
     "output_type": "execute_result"
    }
   ],
   "source": [
    "np.random.randn(10,2)"
   ]
  },
  {
   "cell_type": "markdown",
   "id": "fb232506",
   "metadata": {},
   "source": [
    "# Slicing and Indexing of arrays"
   ]
  },
  {
   "cell_type": "code",
   "execution_count": 17,
   "id": "31ec533c",
   "metadata": {
    "ExecuteTime": {
     "end_time": "2023-02-02T10:48:39.729199Z",
     "start_time": "2023-02-02T10:48:39.722111Z"
    }
   },
   "outputs": [
    {
     "data": {
      "text/plain": [
       "array([[1, 2, 3],\n",
       "       [4, 5, 6]])"
      ]
     },
     "execution_count": 17,
     "metadata": {},
     "output_type": "execute_result"
    }
   ],
   "source": [
    "x = np.array([[1,2,3],[4,5,6]])\n",
    "x"
   ]
  },
  {
   "cell_type": "code",
   "execution_count": 18,
   "id": "47fe8a48",
   "metadata": {
    "ExecuteTime": {
     "end_time": "2023-02-02T10:49:32.399712Z",
     "start_time": "2023-02-02T10:49:32.383763Z"
    }
   },
   "outputs": [
    {
     "data": {
      "text/plain": [
       "1"
      ]
     },
     "execution_count": 18,
     "metadata": {},
     "output_type": "execute_result"
    }
   ],
   "source": [
    "x[0,0]"
   ]
  },
  {
   "cell_type": "code",
   "execution_count": 21,
   "id": "73e112d8",
   "metadata": {
    "ExecuteTime": {
     "end_time": "2023-02-02T10:51:23.927697Z",
     "start_time": "2023-02-02T10:51:23.910138Z"
    }
   },
   "outputs": [
    {
     "data": {
      "text/plain": [
       "array([1, 2])"
      ]
     },
     "execution_count": 21,
     "metadata": {},
     "output_type": "execute_result"
    }
   ],
   "source": [
    "x[0,0:2]"
   ]
  },
  {
   "cell_type": "code",
   "execution_count": 22,
   "id": "4fa2ded3",
   "metadata": {
    "ExecuteTime": {
     "end_time": "2023-02-02T10:51:58.401517Z",
     "start_time": "2023-02-02T10:51:58.389696Z"
    }
   },
   "outputs": [
    {
     "data": {
      "text/plain": [
       "array([5, 6])"
      ]
     },
     "execution_count": 22,
     "metadata": {},
     "output_type": "execute_result"
    }
   ],
   "source": [
    "x[1,1:]"
   ]
  },
  {
   "cell_type": "code",
   "execution_count": 23,
   "id": "12788d97",
   "metadata": {
    "ExecuteTime": {
     "end_time": "2023-02-02T10:52:46.738066Z",
     "start_time": "2023-02-02T10:52:46.723810Z"
    }
   },
   "outputs": [
    {
     "data": {
      "text/plain": [
       "array([[1, 2, 3],\n",
       "       [4, 5, 6]])"
      ]
     },
     "execution_count": 23,
     "metadata": {},
     "output_type": "execute_result"
    }
   ],
   "source": [
    "x"
   ]
  },
  {
   "cell_type": "code",
   "execution_count": 24,
   "id": "9ee5a9d1",
   "metadata": {
    "ExecuteTime": {
     "end_time": "2023-02-02T10:53:13.306441Z",
     "start_time": "2023-02-02T10:53:13.284109Z"
    }
   },
   "outputs": [
    {
     "data": {
      "text/plain": [
       "array([1, 6])"
      ]
     },
     "execution_count": 24,
     "metadata": {},
     "output_type": "execute_result"
    }
   ],
   "source": [
    "x[[0,1],[0,2]]"
   ]
  },
  {
   "cell_type": "code",
   "execution_count": 25,
   "id": "a9e56f2a",
   "metadata": {
    "ExecuteTime": {
     "end_time": "2023-02-02T10:54:04.494153Z",
     "start_time": "2023-02-02T10:54:04.485864Z"
    }
   },
   "outputs": [
    {
     "data": {
      "text/plain": [
       "array([3, 6])"
      ]
     },
     "execution_count": 25,
     "metadata": {},
     "output_type": "execute_result"
    }
   ],
   "source": [
    "x[[0,1],[2,2]]"
   ]
  },
  {
   "cell_type": "code",
   "execution_count": 26,
   "id": "60cb4894",
   "metadata": {
    "ExecuteTime": {
     "end_time": "2023-02-02T10:54:28.179200Z",
     "start_time": "2023-02-02T10:54:28.168490Z"
    }
   },
   "outputs": [
    {
     "data": {
      "text/plain": [
       "array([3, 6])"
      ]
     },
     "execution_count": 26,
     "metadata": {},
     "output_type": "execute_result"
    }
   ],
   "source": [
    "x[:,2]"
   ]
  },
  {
   "cell_type": "markdown",
   "id": "57bb1165",
   "metadata": {},
   "source": [
    "# Reshaping the arrays "
   ]
  },
  {
   "cell_type": "code",
   "execution_count": 28,
   "id": "2834e07a",
   "metadata": {
    "ExecuteTime": {
     "end_time": "2023-02-02T10:56:10.955964Z",
     "start_time": "2023-02-02T10:56:10.938228Z"
    }
   },
   "outputs": [
    {
     "data": {
      "text/plain": [
       "array([[0.89625361, 0.33292576],\n",
       "       [0.02684457, 0.79981644],\n",
       "       [0.80849361, 0.89995029],\n",
       "       [0.4414729 , 0.84058414],\n",
       "       [0.00813649, 0.57704649],\n",
       "       [0.96614402, 0.14167419],\n",
       "       [0.98472201, 0.54393   ],\n",
       "       [0.51427838, 0.5981843 ],\n",
       "       [0.81013144, 0.62304524],\n",
       "       [0.29169498, 0.21802639]])"
      ]
     },
     "execution_count": 28,
     "metadata": {},
     "output_type": "execute_result"
    }
   ],
   "source": [
    "a = np.random.rand(10,2)\n",
    "a"
   ]
  },
  {
   "cell_type": "code",
   "execution_count": 29,
   "id": "9e1b54f2",
   "metadata": {
    "ExecuteTime": {
     "end_time": "2023-02-02T10:58:18.592534Z",
     "start_time": "2023-02-02T10:58:18.578985Z"
    }
   },
   "outputs": [
    {
     "data": {
      "text/plain": [
       "array([[0.89625361, 0.33292576, 0.02684457, 0.79981644, 0.80849361,\n",
       "        0.89995029, 0.4414729 , 0.84058414, 0.00813649, 0.57704649],\n",
       "       [0.96614402, 0.14167419, 0.98472201, 0.54393   , 0.51427838,\n",
       "        0.5981843 , 0.81013144, 0.62304524, 0.29169498, 0.21802639]])"
      ]
     },
     "execution_count": 29,
     "metadata": {},
     "output_type": "execute_result"
    }
   ],
   "source": [
    "a.reshape(2,10)"
   ]
  },
  {
   "cell_type": "code",
   "execution_count": 30,
   "id": "7d69fcc6",
   "metadata": {
    "ExecuteTime": {
     "end_time": "2023-02-02T10:58:31.001836Z",
     "start_time": "2023-02-02T10:58:30.995254Z"
    }
   },
   "outputs": [
    {
     "data": {
      "text/plain": [
       "array([[0.89625361, 0.33292576, 0.02684457, 0.79981644],\n",
       "       [0.80849361, 0.89995029, 0.4414729 , 0.84058414],\n",
       "       [0.00813649, 0.57704649, 0.96614402, 0.14167419],\n",
       "       [0.98472201, 0.54393   , 0.51427838, 0.5981843 ],\n",
       "       [0.81013144, 0.62304524, 0.29169498, 0.21802639]])"
      ]
     },
     "execution_count": 30,
     "metadata": {},
     "output_type": "execute_result"
    }
   ],
   "source": [
    "a.reshape(5,4)"
   ]
  },
  {
   "cell_type": "code",
   "execution_count": 31,
   "id": "8234d794",
   "metadata": {
    "ExecuteTime": {
     "end_time": "2023-02-02T10:58:47.380960Z",
     "start_time": "2023-02-02T10:58:47.359550Z"
    }
   },
   "outputs": [
    {
     "ename": "ValueError",
     "evalue": "cannot reshape array of size 20 into shape (10,5)",
     "output_type": "error",
     "traceback": [
      "\u001b[1;31m---------------------------------------------------------------------------\u001b[0m",
      "\u001b[1;31mValueError\u001b[0m                                Traceback (most recent call last)",
      "\u001b[1;32m~\\AppData\\Local\\Temp\\ipykernel_77864\\4187128381.py\u001b[0m in \u001b[0;36m<module>\u001b[1;34m\u001b[0m\n\u001b[1;32m----> 1\u001b[1;33m \u001b[0ma\u001b[0m\u001b[1;33m.\u001b[0m\u001b[0mreshape\u001b[0m\u001b[1;33m(\u001b[0m\u001b[1;36m10\u001b[0m\u001b[1;33m,\u001b[0m\u001b[1;36m5\u001b[0m\u001b[1;33m)\u001b[0m\u001b[1;33m\u001b[0m\u001b[1;33m\u001b[0m\u001b[0m\n\u001b[0m",
      "\u001b[1;31mValueError\u001b[0m: cannot reshape array of size 20 into shape (10,5)"
     ]
    }
   ],
   "source": [
    "a.reshape(10,5)"
   ]
  },
  {
   "cell_type": "code",
   "execution_count": 32,
   "id": "e1cc7e02",
   "metadata": {
    "ExecuteTime": {
     "end_time": "2023-02-02T10:59:42.511839Z",
     "start_time": "2023-02-02T10:59:42.503192Z"
    }
   },
   "outputs": [
    {
     "data": {
      "text/plain": [
       "array([[0.89625361, 0.33292576, 0.02684457, 0.79981644, 0.80849361,\n",
       "        0.89995029, 0.4414729 , 0.84058414, 0.00813649, 0.57704649],\n",
       "       [0.96614402, 0.14167419, 0.98472201, 0.54393   , 0.51427838,\n",
       "        0.5981843 , 0.81013144, 0.62304524, 0.29169498, 0.21802639]])"
      ]
     },
     "execution_count": 32,
     "metadata": {},
     "output_type": "execute_result"
    }
   ],
   "source": [
    "a.reshape(2,-1)"
   ]
  },
  {
   "cell_type": "code",
   "execution_count": 33,
   "id": "934e9688",
   "metadata": {
    "ExecuteTime": {
     "end_time": "2023-02-02T11:00:04.899788Z",
     "start_time": "2023-02-02T11:00:04.882938Z"
    }
   },
   "outputs": [
    {
     "data": {
      "text/plain": [
       "array([[0.89625361, 0.33292576, 0.02684457, 0.79981644, 0.80849361],\n",
       "       [0.89995029, 0.4414729 , 0.84058414, 0.00813649, 0.57704649],\n",
       "       [0.96614402, 0.14167419, 0.98472201, 0.54393   , 0.51427838],\n",
       "       [0.5981843 , 0.81013144, 0.62304524, 0.29169498, 0.21802639]])"
      ]
     },
     "execution_count": 33,
     "metadata": {},
     "output_type": "execute_result"
    }
   ],
   "source": [
    "a.reshape(-1,5)"
   ]
  },
  {
   "cell_type": "code",
   "execution_count": 34,
   "id": "b899805e",
   "metadata": {
    "ExecuteTime": {
     "end_time": "2023-02-02T11:00:27.940756Z",
     "start_time": "2023-02-02T11:00:27.922904Z"
    }
   },
   "outputs": [
    {
     "ename": "ValueError",
     "evalue": "can only specify one unknown dimension",
     "output_type": "error",
     "traceback": [
      "\u001b[1;31m---------------------------------------------------------------------------\u001b[0m",
      "\u001b[1;31mValueError\u001b[0m                                Traceback (most recent call last)",
      "\u001b[1;32m~\\AppData\\Local\\Temp\\ipykernel_77864\\3492966413.py\u001b[0m in \u001b[0;36m<module>\u001b[1;34m\u001b[0m\n\u001b[1;32m----> 1\u001b[1;33m \u001b[0ma\u001b[0m\u001b[1;33m.\u001b[0m\u001b[0mreshape\u001b[0m\u001b[1;33m(\u001b[0m\u001b[1;33m-\u001b[0m\u001b[1;36m1\u001b[0m\u001b[1;33m,\u001b[0m\u001b[1;33m-\u001b[0m\u001b[1;36m1\u001b[0m\u001b[1;33m)\u001b[0m\u001b[1;33m\u001b[0m\u001b[1;33m\u001b[0m\u001b[0m\n\u001b[0m",
      "\u001b[1;31mValueError\u001b[0m: can only specify one unknown dimension"
     ]
    }
   ],
   "source": [
    "a.reshape(-1,-1)"
   ]
  },
  {
   "cell_type": "markdown",
   "id": "3bdf9c2b",
   "metadata": {},
   "source": [
    "# Aggregate Functions\n",
    "\n",
    "- The Python numpy aggregate functions are sum, min, max, mean, average, product, median, standard deviation, variance,  percentile, and corrcoef."
   ]
  },
  {
   "cell_type": "code",
   "execution_count": 35,
   "id": "bbff223c",
   "metadata": {
    "ExecuteTime": {
     "end_time": "2023-02-02T11:01:05.335710Z",
     "start_time": "2023-02-02T11:01:05.328163Z"
    }
   },
   "outputs": [
    {
     "data": {
      "text/plain": [
       "array([[0.89625361, 0.33292576],\n",
       "       [0.02684457, 0.79981644],\n",
       "       [0.80849361, 0.89995029],\n",
       "       [0.4414729 , 0.84058414],\n",
       "       [0.00813649, 0.57704649],\n",
       "       [0.96614402, 0.14167419],\n",
       "       [0.98472201, 0.54393   ],\n",
       "       [0.51427838, 0.5981843 ],\n",
       "       [0.81013144, 0.62304524],\n",
       "       [0.29169498, 0.21802639]])"
      ]
     },
     "execution_count": 35,
     "metadata": {},
     "output_type": "execute_result"
    }
   ],
   "source": [
    "a"
   ]
  },
  {
   "cell_type": "code",
   "execution_count": 36,
   "id": "901a98ac",
   "metadata": {
    "ExecuteTime": {
     "end_time": "2023-02-02T11:01:19.625696Z",
     "start_time": "2023-02-02T11:01:19.617145Z"
    }
   },
   "outputs": [
    {
     "data": {
      "text/plain": [
       "0.008136493668559619"
      ]
     },
     "execution_count": 36,
     "metadata": {},
     "output_type": "execute_result"
    }
   ],
   "source": [
    "a.min()"
   ]
  },
  {
   "cell_type": "code",
   "execution_count": 37,
   "id": "dad1779f",
   "metadata": {
    "ExecuteTime": {
     "end_time": "2023-02-02T11:01:28.660222Z",
     "start_time": "2023-02-02T11:01:28.640694Z"
    }
   },
   "outputs": [
    {
     "data": {
      "text/plain": [
       "0.9847220141173451"
      ]
     },
     "execution_count": 37,
     "metadata": {},
     "output_type": "execute_result"
    }
   ],
   "source": [
    "a.max()"
   ]
  },
  {
   "cell_type": "code",
   "execution_count": 38,
   "id": "fc8667f1",
   "metadata": {
    "ExecuteTime": {
     "end_time": "2023-02-02T11:01:46.280495Z",
     "start_time": "2023-02-02T11:01:46.259507Z"
    }
   },
   "outputs": [
    {
     "data": {
      "text/plain": [
       "0.5661677622645163"
      ]
     },
     "execution_count": 38,
     "metadata": {},
     "output_type": "execute_result"
    }
   ],
   "source": [
    "a.mean()"
   ]
  },
  {
   "cell_type": "code",
   "execution_count": 39,
   "id": "505185f0",
   "metadata": {
    "ExecuteTime": {
     "end_time": "2023-02-02T11:01:51.390186Z",
     "start_time": "2023-02-02T11:01:51.372818Z"
    }
   },
   "outputs": [
    {
     "data": {
      "text/plain": [
       "0.3049745318819085"
      ]
     },
     "execution_count": 39,
     "metadata": {},
     "output_type": "execute_result"
    }
   ],
   "source": [
    "a.std()"
   ]
  },
  {
   "cell_type": "code",
   "execution_count": 40,
   "id": "1b5b3ba3",
   "metadata": {
    "ExecuteTime": {
     "end_time": "2023-02-02T11:04:08.187274Z",
     "start_time": "2023-02-02T11:04:08.170689Z"
    }
   },
   "outputs": [
    {
     "data": {
      "text/plain": [
       "0.09300946509658922"
      ]
     },
     "execution_count": 40,
     "metadata": {},
     "output_type": "execute_result"
    }
   ],
   "source": [
    "a.var()"
   ]
  },
  {
   "cell_type": "markdown",
   "id": "f5a64e45",
   "metadata": {},
   "source": [
    "# Stacking \n",
    "- Stacking is used to join 2 different arrays.\n",
    "- Vertical stacking\n",
    "- Horizontal stacking"
   ]
  },
  {
   "cell_type": "code",
   "execution_count": 41,
   "id": "2cc2ea35",
   "metadata": {
    "ExecuteTime": {
     "end_time": "2023-02-02T11:04:53.801038Z",
     "start_time": "2023-02-02T11:04:53.789880Z"
    }
   },
   "outputs": [],
   "source": [
    "a = np.array([1,2,3])\n",
    "b = np.array([4,5,6])"
   ]
  },
  {
   "cell_type": "code",
   "execution_count": 42,
   "id": "7af3fa15",
   "metadata": {
    "ExecuteTime": {
     "end_time": "2023-02-02T11:05:13.843886Z",
     "start_time": "2023-02-02T11:05:13.824060Z"
    }
   },
   "outputs": [
    {
     "data": {
      "text/plain": [
       "array([[1, 2, 3],\n",
       "       [4, 5, 6]])"
      ]
     },
     "execution_count": 42,
     "metadata": {},
     "output_type": "execute_result"
    }
   ],
   "source": [
    "np.vstack([a,b])"
   ]
  },
  {
   "cell_type": "code",
   "execution_count": 43,
   "id": "fda110d8",
   "metadata": {
    "ExecuteTime": {
     "end_time": "2023-02-02T11:05:26.045000Z",
     "start_time": "2023-02-02T11:05:26.024559Z"
    }
   },
   "outputs": [
    {
     "data": {
      "text/plain": [
       "array([1, 2, 3, 4, 5, 6])"
      ]
     },
     "execution_count": 43,
     "metadata": {},
     "output_type": "execute_result"
    }
   ],
   "source": [
    "np.hstack([a,b])"
   ]
  }
 ],
 "metadata": {
  "_draft": {
   "nbviewer_url": "https://gist.github.com/21c911ff193396ba12c34a5385ab8119"
  },
  "gist": {
   "data": {
    "description": "ExcelR/Numpy.ipynb",
    "public": true
   },
   "id": "21c911ff193396ba12c34a5385ab8119"
  },
  "kernelspec": {
   "display_name": "Python 3 (ipykernel)",
   "language": "python",
   "name": "python3"
  },
  "language_info": {
   "codemirror_mode": {
    "name": "ipython",
    "version": 3
   },
   "file_extension": ".py",
   "mimetype": "text/x-python",
   "name": "python",
   "nbconvert_exporter": "python",
   "pygments_lexer": "ipython3",
   "version": "3.9.13"
  }
 },
 "nbformat": 4,
 "nbformat_minor": 5
}
